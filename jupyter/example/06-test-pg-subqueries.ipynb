{
 "cells": [
  {
   "cell_type": "code",
   "execution_count": null,
   "id": "8d527df3-5876-4156-95da-6f763407ee96",
   "metadata": {},
   "outputs": [],
   "source": [
    "-- Departments Table\n",
    "CREATE TABLE departments (\n",
    "    department_id SERIAL PRIMARY KEY,\n",
    "    department_name VARCHAR(100) NOT NULL\n",
    ");\n",
    "\n",
    "-- Employees Table\n",
    "CREATE TABLE employees (\n",
    "    employee_id SERIAL PRIMARY KEY,\n",
    "    employee_name VARCHAR(100) NOT NULL,\n",
    "    department_id INTEGER REFERENCES departments(department_id),\n",
    "    salary DECIMAL(10, 2) NOT NULL,\n",
    "    hire_date DATE\n",
    ");\n",
    "\n",
    "-- Products Table\n",
    "CREATE TABLE products (\n",
    "    product_id SERIAL PRIMARY KEY,\n",
    "    product_name VARCHAR(100) NOT NULL,\n",
    "    category_id INTEGER,\n",
    "    price DECIMAL(10, 2) NOT NULL,\n",
    "    stock_quantity INTEGER NOT NULL\n",
    ");\n",
    "\n",
    "-- Categories Table\n",
    "CREATE TABLE categories (\n",
    "    category_id SERIAL PRIMARY KEY,\n",
    "    category_name VARCHAR(100) NOT NULL\n",
    ");\n",
    "\n",
    "-- Orders Table\n",
    "CREATE TABLE orders (\n",
    "    order_id SERIAL PRIMARY KEY,\n",
    "    customer_id INTEGER NOT NULL,\n",
    "    order_date DATE NOT NULL\n",
    ");\n",
    "\n",
    "-- Customers Table\n",
    "CREATE TABLE customers (\n",
    "    customer_id SERIAL PRIMARY KEY,\n",
    "    customer_name VARCHAR(100) NOT NULL,\n",
    "    city VARCHAR(100)\n",
    ");"
   ]
  },
  {
   "cell_type": "code",
   "execution_count": null,
   "id": "6f2da0ec-c66e-4c0c-b48e-b349f400da8e",
   "metadata": {},
   "outputs": [],
   "source": [
    "-- Departments\n",
    "INSERT INTO departments (department_name) VALUES\n",
    "('Sales'), ('Marketing'), ('Engineering'), ('HR');\n",
    "\n",
    "-- Categories\n",
    "INSERT INTO categories (category_name) VALUES\n",
    "('Electronics'), ('Clothing'), ('Books');\n",
    "\n",
    "-- Employees\n",
    "INSERT INTO employees (employee_name, department_id, salary, hire_date) VALUES\n",
    "('Alice Smith', 1, 60000.00, '2022-01-15'),\n",
    "('Bob Johnson', 1, 75000.00, '2021-08-20'),\n",
    "('Charlie Brown', 2, 55000.00, '2023-03-10'),\n",
    "('Diana Davis', 3, 90000.00, '2020-11-01'),\n",
    "('Eve Williams', 3, 80000.00, '2022-05-05'),\n",
    "('Frank Miller', 4, 65000.00, '2022-09-12');\n",
    "\n",
    "-- Products\n",
    "INSERT INTO products (product_name, category_id, price, stock_quantity) VALUES\n",
    "('Laptop', 1, 1200.00, 50),\n",
    "('T-Shirt', 2, 25.00, 200),\n",
    "('Database Design', 3, 40.00, 100),\n",
    "('Smartphone', 1, 800.00, 75),\n",
    "('Jeans', 2, 60.00, 150);\n",
    "\n",
    "-- Customers\n",
    "INSERT INTO customers (customer_name, city) VALUES\n",
    "('John Doe', 'New York'),\n",
    "('Jane Smith', 'London'),\n",
    "('Peter Jones', 'Paris');\n",
    "\n",
    "-- Orders\n",
    "INSERT INTO orders (customer_id, order_date) VALUES\n",
    "(1, '2023-02-10'),\n",
    "(2, '2023-03-15'),\n",
    "(1, '2023-04-22');"
   ]
  },
  {
   "cell_type": "code",
   "execution_count": null,
   "id": "36044f93-3261-4487-999d-564e0b303020",
   "metadata": {},
   "outputs": [],
   "source": [
    "SELECT employee_name, salary\n",
    "FROM employees\n",
    "WHERE salary > (SELECT AVG(salary) FROM employees);"
   ]
  },
  {
   "cell_type": "code",
   "execution_count": null,
   "id": "31d6cdb9-0c77-4b70-9020-543fd6c920a6",
   "metadata": {},
   "outputs": [],
   "source": [
    "SELECT *\n",
    "FROM products\n",
    "WHERE (category_id, price) IN (SELECT category_id, MAX(price) FROM products GROUP BY category_id);"
   ]
  },
  {
   "cell_type": "code",
   "execution_count": null,
   "id": "cb7ed6c4-3983-4c2c-8e41-95a4b9ee6680",
   "metadata": {},
   "outputs": [],
   "source": [
    "SELECT customer_name\n",
    "FROM customers\n",
    "WHERE customer_id IN (SELECT customer_id FROM orders WHERE order_date > '2023-03-01');"
   ]
  },
  {
   "cell_type": "code",
   "execution_count": null,
   "id": "2edf83e5-9c24-46e1-9120-3692d0d6086d",
   "metadata": {},
   "outputs": [],
   "source": [
    "SELECT dept_name, AVG(salary) AS avg_salary\n",
    "FROM (SELECT d.department_name AS dept_name, e.salary\n",
    "      FROM employees e\n",
    "      JOIN departments d ON e.department_id = d.department_id) AS emp_dept  -- Table subquery aliased as emp_dept\n",
    "GROUP BY dept_name\n",
    "ORDER BY avg_salary DESC;"
   ]
  },
  {
   "cell_type": "code",
   "execution_count": null,
   "id": "3e00c3fb-d438-4db8-b835-a6f76cc20508",
   "metadata": {},
   "outputs": [],
   "source": [
    "SELECT employee_name\n",
    "FROM employees e1\n",
    "WHERE salary > (SELECT AVG(salary) FROM employees e2 WHERE e1.department_id = e2.department_id);"
   ]
  },
  {
   "cell_type": "code",
   "execution_count": null,
   "id": "321058f4-3ab0-4ce6-b121-96b0b1506fcb",
   "metadata": {},
   "outputs": [],
   "source": [
    "SELECT c.customer_name\n",
    "FROM customers c\n",
    "WHERE EXISTS (SELECT 1 FROM orders o WHERE o.customer_id = c.customer_id AND o.order_date > '2023-03-01');"
   ]
  },
  {
   "cell_type": "code",
   "execution_count": null,
   "id": "05c4bb57-55db-41f0-a670-fdaa661f08b6",
   "metadata": {},
   "outputs": [],
   "source": [
    "SELECT d.department_name\n",
    "FROM departments d\n",
    "WHERE NOT EXISTS (SELECT 1 FROM employees e WHERE e.department_id = d.department_id);"
   ]
  },
  {
   "cell_type": "code",
   "execution_count": null,
   "id": "c14956d3-99c9-4462-b85f-f58ffc2fd237",
   "metadata": {},
   "outputs": [],
   "source": [
    "SELECT department_id, AVG(salary) AS avg_salary\n",
    "FROM employees\n",
    "GROUP BY department_id\n",
    "HAVING AVG(salary) > (SELECT AVG(salary) FROM employees);"
   ]
  },
  {
   "cell_type": "code",
   "execution_count": null,
   "id": "79f94a36-dd5a-4c19-8d15-ca62f902d6fa",
   "metadata": {},
   "outputs": [],
   "source": [
    "UPDATE products\n",
    "SET price = price * 1.10\n",
    "WHERE category_id IN (SELECT category_id FROM categories WHERE category_name = 'Electronics');"
   ]
  },
  {
   "cell_type": "code",
   "execution_count": null,
   "id": "62f7b230-25a0-4f29-941c-0eba3f269578",
   "metadata": {},
   "outputs": [],
   "source": [
    "INSERT INTO customers (customer_name, city)\n",
    "SELECT employee_name, 'Unknown'\n",
    "FROM employees\n",
    "WHERE department_id = (SELECT department_id FROM departments WHERE department_name = 'HR');"
   ]
  },
  {
   "cell_type": "code",
   "execution_count": null,
   "id": "f3df397b-2f26-43b1-8dc9-23647454df6a",
   "metadata": {},
   "outputs": [],
   "source": []
  },
  {
   "cell_type": "code",
   "execution_count": null,
   "id": "de53627d-e6e8-4431-982b-9a4cca419c7b",
   "metadata": {},
   "outputs": [],
   "source": []
  }
 ],
 "metadata": {
  "kernelspec": {
   "display_name": "Python 3 (ipykernel)",
   "language": "python",
   "name": "python3"
  },
  "language_info": {
   "codemirror_mode": {
    "name": "ipython",
    "version": 3
   },
   "file_extension": ".py",
   "mimetype": "text/x-python",
   "name": "python",
   "nbconvert_exporter": "python",
   "pygments_lexer": "ipython3",
   "version": "3.11.6"
  }
 },
 "nbformat": 4,
 "nbformat_minor": 5
}
