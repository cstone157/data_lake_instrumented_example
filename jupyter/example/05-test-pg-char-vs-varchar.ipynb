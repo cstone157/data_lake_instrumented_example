{
 "cells": [
  {
   "cell_type": "code",
   "execution_count": 1,
   "id": "133c9fd0-a895-43ec-9761-f81d6bea836c",
   "metadata": {},
   "outputs": [
    {
     "name": "stdout",
     "output_type": "stream",
     "text": [
      "Requirement already satisfied: psycopg2 in /opt/conda/lib/python3.11/site-packages (2.9.10)\n"
     ]
    }
   ],
   "source": [
    "!pip install psycopg2"
   ]
  },
  {
   "cell_type": "code",
   "execution_count": 3,
   "id": "6eb52c24-c735-40be-bbe9-4577671c582a",
   "metadata": {},
   "outputs": [
    {
     "name": "stdout",
     "output_type": "stream",
     "text": [
      "Average CHAR query time: 0.107102 seconds\n",
      "Average VARCHAR query time: 0.012008 seconds\n"
     ]
    }
   ],
   "source": [
    "import psycopg2\n",
    "import time\n",
    "\n",
    "# Database connection parameters\n",
    "db_host = \"pg_container\"\n",
    "db_name = \"test_db\"\n",
    "db_user = \"shoc\"\n",
    "db_password = \"password\"\n",
    "\n",
    "def execute_query(query):\n",
    "    conn = None\n",
    "    try:\n",
    "        conn = psycopg2.connect(host=db_host, database=db_name, user=db_user, password=db_password)\n",
    "        cur = conn.cursor()\n",
    "\n",
    "        start_time = time.time()\n",
    "        cur.execute(query)\n",
    "        rows = cur.fetchall()\n",
    "        end_time = time.time()\n",
    "\n",
    "        elapsed_time = end_time - start_time\n",
    "        return elapsed_time\n",
    "\n",
    "    except (Exception, psycopg2.DatabaseError) as error:\n",
    "        print(error)\n",
    "    finally:\n",
    "        if conn:\n",
    "            cur.close()\n",
    "            conn.close()\n",
    "\n",
    "# Define your test queries\n",
    "char_query = \"SELECT * FROM CharTable WHERE TRIM(Name) = 'your_test_string';\"\n",
    "varchar_query = \"SELECT * FROM VarcharTable WHERE Name = 'your_test_string';\"\n",
    "\n",
    "# Number of runs\n",
    "num_runs = 10\n",
    "\n",
    "# Run the tests and time them\n",
    "char_times = []\n",
    "varchar_times = []\n",
    "\n",
    "for _ in range(num_runs):\n",
    "    char_times.append(execute_query(char_query))\n",
    "    varchar_times.append(execute_query(varchar_query))\n",
    "\n",
    "# Calculate averages (excluding the first run)\n",
    "avg_char_time = sum(char_times[1:]) / (num_runs - 1)\n",
    "avg_varchar_time = sum(varchar_times[1:]) / (num_runs - 1)\n",
    "\n",
    "print(f\"Average CHAR query time: {avg_char_time:.6f} seconds\")\n",
    "print(f\"Average VARCHAR query time: {avg_varchar_time:.6f} seconds\")"
   ]
  },
  {
   "cell_type": "code",
   "execution_count": null,
   "id": "c8f723b4-60f0-467e-a2b3-1329475d95b4",
   "metadata": {},
   "outputs": [],
   "source": []
  }
 ],
 "metadata": {
  "kernelspec": {
   "display_name": "Python 3 (ipykernel)",
   "language": "python",
   "name": "python3"
  },
  "language_info": {
   "codemirror_mode": {
    "name": "ipython",
    "version": 3
   },
   "file_extension": ".py",
   "mimetype": "text/x-python",
   "name": "python",
   "nbconvert_exporter": "python",
   "pygments_lexer": "ipython3",
   "version": "3.11.6"
  }
 },
 "nbformat": 4,
 "nbformat_minor": 5
}
