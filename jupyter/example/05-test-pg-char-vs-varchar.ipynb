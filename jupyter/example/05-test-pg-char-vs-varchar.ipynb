{
 "cells": [
  {
   "cell_type": "code",
   "execution_count": 1,
   "id": "133c9fd0-a895-43ec-9761-f81d6bea836c",
   "metadata": {},
   "outputs": [
    {
     "name": "stdout",
     "output_type": "stream",
     "text": [
      "Requirement already satisfied: psycopg2 in /opt/conda/lib/python3.11/site-packages (2.9.10)\n"
     ]
    }
   ],
   "source": [
    "!pip install psycopg2"
   ]
  },
  {
   "cell_type": "code",
   "execution_count": null,
   "id": "00cb3cfe-1a21-44dd-94d5-5afacf4853e6",
   "metadata": {},
   "outputs": [],
   "source": [
    "import psycopg2\n",
    "import time\n",
    "\n",
    "# Database connection parameters\n",
    "db_host = \"pg_container\"\n",
    "db_name = \"test_db\"\n",
    "db_user = \"shoc\"\n",
    "db_password = \"password\"\n",
    "\n",
    "conn = psycopg2.connect(host=db_host, database=db_name, user=db_user, password=db_password)\n",
    "cur = conn.cursor()\n",
    "\n",
    "query = \"\"\"DROP \n",
    "\n",
    "cur.execute(query)\n",
    "rows = cur.fetchall()\n"
   ]
  },
  {
   "cell_type": "code",
   "execution_count": null,
   "id": "da494939-c79d-4b40-8a19-da3457e2732e",
   "metadata": {},
   "outputs": [],
   "source": [
    "-- Table with CHAR\n",
    "CREATE TABLE CharTable (\n",
    "    ID SERIAL PRIMARY KEY,\n",
    "    Name CHAR(50),\n",
    "    OtherData TEXT -- Add other relevant columns\n",
    ");\n",
    "\n",
    "-- Table with VARCHAR\n",
    "CREATE TABLE VarcharTable (\n",
    "    ID SERIAL PRIMARY KEY,\n",
    "    Name VARCHAR(50),\n",
    "    OtherData TEXT -- Add other relevant columns\n",
    ");\n",
    "\n",
    "-- Insert data (ensure data is less than 50 chars for 'Name')\n",
    "INSERT INTO CharTable (Name, OtherData)\n",
    "SELECT md5(random()::text), 'Some additional text'\n",
    "FROM generate_series(1, 100000); -- 100,000 rows\n",
    "\n",
    "INSERT INTO VarcharTable (Name, OtherData)\n",
    "SELECT Name, OtherData FROM CharTable; -- copy data from CharTable\n",
    "\n",
    "-- Optionally, add an index on the Name column (after the data is loaded)\n",
    "-- CREATE INDEX idx_char_name ON CharTable (Name);\n",
    "-- CREATE INDEX idx_varchar_name ON VarcharTable (Name);"
   ]
  },
  {
   "cell_type": "code",
   "execution_count": null,
   "id": "b07ab72f-f94c-47c2-94d4-8fc9c15e3e22",
   "metadata": {},
   "outputs": [],
   "source": [
    "-- Simple SELECT\n",
    "SELECT * FROM CharTable;\n",
    "SELECT * FROM VarcharTable;\n",
    "\n",
    "-- SELECT with WHERE (handling trailing spaces for CHAR)\n",
    "SELECT * FROM CharTable WHERE TRIM(Name) = 'your_test_string';\n",
    "SELECT * FROM VarcharTable WHERE Name = 'your_test_string';\n",
    "\n",
    "-- Aggregated query\n",
    "SELECT COUNT(*) FROM CharTable WHERE OtherData LIKE '%text%';\n",
    "SELECT COUNT(*) FROM VarcharTable WHERE OtherData LIKE '%text%';\n",
    "\n",
    "-- ORDER BY\n",
    "SELECT * FROM CharTable ORDER BY TRIM(Name);\n",
    "SELECT * FROM VarcharTable ORDER BY Name;"
   ]
  },
  {
   "cell_type": "code",
   "execution_count": 3,
   "id": "6eb52c24-c735-40be-bbe9-4577671c582a",
   "metadata": {},
   "outputs": [
    {
     "name": "stdout",
     "output_type": "stream",
     "text": [
      "Average CHAR query time: 0.107102 seconds\n",
      "Average VARCHAR query time: 0.012008 seconds\n"
     ]
    }
   ],
   "source": [
    "import psycopg2\n",
    "import time\n",
    "\n",
    "# Database connection parameters\n",
    "db_host = \"pg_container\"\n",
    "db_name = \"test_db\"\n",
    "db_user = \"shoc\"\n",
    "db_password = \"password\"\n",
    "\n",
    "def execute_query(query):\n",
    "    conn = None\n",
    "    try:\n",
    "        conn = psycopg2.connect(host=db_host, database=db_name, user=db_user, password=db_password)\n",
    "        cur = conn.cursor()\n",
    "\n",
    "        start_time = time.time()\n",
    "        cur.execute(query)\n",
    "        rows = cur.fetchall()\n",
    "        end_time = time.time()\n",
    "\n",
    "        elapsed_time = end_time - start_time\n",
    "        return elapsed_time\n",
    "\n",
    "    except (Exception, psycopg2.DatabaseError) as error:\n",
    "        print(error)\n",
    "    finally:\n",
    "        if conn:\n",
    "            cur.close()\n",
    "            conn.close()\n",
    "\n",
    "# Define your test queries\n",
    "char_query = \"SELECT * FROM CharTable WHERE TRIM(Name) = 'your_test_string';\"\n",
    "varchar_query = \"SELECT * FROM VarcharTable WHERE Name = 'your_test_string';\"\n",
    "\n",
    "# Number of runs\n",
    "num_runs = 10\n",
    "\n",
    "# Run the tests and time them\n",
    "char_times = []\n",
    "varchar_times = []\n",
    "\n",
    "for _ in range(num_runs):\n",
    "    char_times.append(execute_query(char_query))\n",
    "    varchar_times.append(execute_query(varchar_query))\n",
    "\n",
    "# Calculate averages (excluding the first run)\n",
    "avg_char_time = sum(char_times[1:]) / (num_runs - 1)\n",
    "avg_varchar_time = sum(varchar_times[1:]) / (num_runs - 1)\n",
    "\n",
    "print(f\"Average CHAR query time: {avg_char_time:.6f} seconds\")\n",
    "print(f\"Average VARCHAR query time: {avg_varchar_time:.6f} seconds\")"
   ]
  },
  {
   "cell_type": "code",
   "execution_count": null,
   "id": "c8f723b4-60f0-467e-a2b3-1329475d95b4",
   "metadata": {},
   "outputs": [],
   "source": []
  }
 ],
 "metadata": {
  "kernelspec": {
   "display_name": "Python 3 (ipykernel)",
   "language": "python",
   "name": "python3"
  },
  "language_info": {
   "codemirror_mode": {
    "name": "ipython",
    "version": 3
   },
   "file_extension": ".py",
   "mimetype": "text/x-python",
   "name": "python",
   "nbconvert_exporter": "python",
   "pygments_lexer": "ipython3",
   "version": "3.11.6"
  }
 },
 "nbformat": 4,
 "nbformat_minor": 5
}
