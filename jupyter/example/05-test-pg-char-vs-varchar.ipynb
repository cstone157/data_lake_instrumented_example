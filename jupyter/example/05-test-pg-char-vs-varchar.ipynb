{
 "cells": [
  {
   "cell_type": "code",
   "execution_count": 1,
   "id": "133c9fd0-a895-43ec-9761-f81d6bea836c",
   "metadata": {},
   "outputs": [
    {
     "name": "stdout",
     "output_type": "stream",
     "text": [
      "Requirement already satisfied: psycopg2 in /opt/conda/lib/python3.11/site-packages (2.9.10)\n"
     ]
    }
   ],
   "source": [
    "!pip install psycopg2"
   ]
  },
  {
   "cell_type": "code",
   "execution_count": 2,
   "id": "00cb3cfe-1a21-44dd-94d5-5afacf4853e6",
   "metadata": {},
   "outputs": [],
   "source": [
    "import time\n",
    "\n",
    "import psycopg2\n",
    "from psycopg2.extensions import ISOLATION_LEVEL_AUTOCOMMIT\n",
    "\n",
    "# Database connection parameters\n",
    "db_host = \"pg_container\"\n",
    "db_name = \"test_db\"\n",
    "db_name2 = \"example_db\"\n",
    "db_user = \"shoc\"\n",
    "db_password = \"password\""
   ]
  },
  {
   "cell_type": "code",
   "execution_count": 3,
   "id": "51752d97-f5df-41d7-a195-09db76ee21a3",
   "metadata": {},
   "outputs": [],
   "source": [
    "#conn = psycopg2.connect(host=db_host, database=db_name, user=db_user, password=db_password)\n",
    "conn=psycopg2.connect( \n",
    "    database=db_name, \n",
    "    user=db_user, \n",
    "    password=db_password, \n",
    "    host=db_host, \n",
    "    port=\"5432\"\n",
    ") \n",
    "\n",
    "#conn.set_isolation_level(ISOLATION_LEVEL_AUTOCOMMIT);\n",
    "conn.autocommit = True\n",
    "cur = conn.cursor()"
   ]
  },
  {
   "cell_type": "code",
   "execution_count": 4,
   "id": "64da6e58-c92f-4c84-b6a0-c19e9ea92941",
   "metadata": {},
   "outputs": [],
   "source": [
    "query = f\"CREATE DATABASE {db_name2}\"\n",
    "cur.execute(query)\n",
    "conn.close()"
   ]
  },
  {
   "cell_type": "code",
   "execution_count": 5,
   "id": "4014c39d-c30b-488a-b23c-2e5bcd2846f7",
   "metadata": {},
   "outputs": [],
   "source": [
    "conn2=psycopg2.connect( \n",
    "    database=db_name2, \n",
    "    user=db_user, \n",
    "    password=db_password, \n",
    "    host=db_host, \n",
    "    port=\"5432\"\n",
    ") \n",
    "cur = conn2.cursor()\n",
    "conn2.close()"
   ]
  },
  {
   "cell_type": "code",
   "execution_count": null,
   "id": "c298f00a-83d8-4153-a889-2112825b9d2d",
   "metadata": {},
   "outputs": [],
   "source": []
  },
  {
   "cell_type": "code",
   "execution_count": null,
   "id": "6a70621b-b638-47f9-b7f9-3d175ed394a7",
   "metadata": {},
   "outputs": [],
   "source": []
  },
  {
   "cell_type": "code",
   "execution_count": 6,
   "id": "76f39c99-e3eb-4208-86c8-9f7ee6c1cc0e",
   "metadata": {},
   "outputs": [],
   "source": [
    "conn=psycopg2.connect( \n",
    "    database=db_name, \n",
    "    user=db_user, \n",
    "    password=db_password, \n",
    "    host=db_host, \n",
    "    port=\"5432\"\n",
    ") \n",
    "\n",
    "#conn.set_isolation_level(ISOLATION_LEVEL_AUTOCOMMIT);\n",
    "conn.autocommit = True\n",
    "cur = conn.cursor()\n",
    "\n",
    "query = f\"DROP DATABASE {db_name2}\"\n",
    "cur.execute(query)\n",
    "conn.close()"
   ]
  },
  {
   "cell_type": "code",
   "execution_count": 7,
   "id": "da494939-c79d-4b40-8a19-da3457e2732e",
   "metadata": {},
   "outputs": [
    {
     "ename": "SyntaxError",
     "evalue": "invalid syntax (3136918032.py, line 1)",
     "output_type": "error",
     "traceback": [
      "\u001b[0;36m  Cell \u001b[0;32mIn[7], line 1\u001b[0;36m\u001b[0m\n\u001b[0;31m    -- Table with CHAR\u001b[0m\n\u001b[0m             ^\u001b[0m\n\u001b[0;31mSyntaxError\u001b[0m\u001b[0;31m:\u001b[0m invalid syntax\n"
     ]
    }
   ],
   "source": [
    "-- Table with CHAR\n",
    "CREATE TABLE CharTable (\n",
    "    ID SERIAL PRIMARY KEY,\n",
    "    Name CHAR(50),\n",
    "    OtherData TEXT -- Add other relevant columns\n",
    ");\n",
    "\n",
    "-- Table with VARCHAR\n",
    "CREATE TABLE VarcharTable (\n",
    "    ID SERIAL PRIMARY KEY,\n",
    "    Name VARCHAR(50),\n",
    "    OtherData TEXT -- Add other relevant columns\n",
    ");\n",
    "\n",
    "-- Insert data (ensure data is less than 50 chars for 'Name')\n",
    "INSERT INTO CharTable (Name, OtherData)\n",
    "SELECT md5(random()::text), 'Some additional text'\n",
    "FROM generate_series(1, 100000); -- 100,000 rows\n",
    "\n",
    "INSERT INTO VarcharTable (Name, OtherData)\n",
    "SELECT Name, OtherData FROM CharTable; -- copy data from CharTable\n",
    "\n",
    "-- Optionally, add an index on the Name column (after the data is loaded)\n",
    "-- CREATE INDEX idx_char_name ON CharTable (Name);\n",
    "-- CREATE INDEX idx_varchar_name ON VarcharTable (Name);"
   ]
  },
  {
   "cell_type": "code",
   "execution_count": null,
   "id": "b07ab72f-f94c-47c2-94d4-8fc9c15e3e22",
   "metadata": {},
   "outputs": [],
   "source": [
    "-- Simple SELECT\n",
    "SELECT * FROM CharTable;\n",
    "SELECT * FROM VarcharTable;\n",
    "\n",
    "-- SELECT with WHERE (handling trailing spaces for CHAR)\n",
    "SELECT * FROM CharTable WHERE TRIM(Name) = 'your_test_string';\n",
    "SELECT * FROM VarcharTable WHERE Name = 'your_test_string';\n",
    "\n",
    "-- Aggregated query\n",
    "SELECT COUNT(*) FROM CharTable WHERE OtherData LIKE '%text%';\n",
    "SELECT COUNT(*) FROM VarcharTable WHERE OtherData LIKE '%text%';\n",
    "\n",
    "-- ORDER BY\n",
    "SELECT * FROM CharTable ORDER BY TRIM(Name);\n",
    "SELECT * FROM VarcharTable ORDER BY Name;"
   ]
  },
  {
   "cell_type": "code",
   "execution_count": null,
   "id": "6eb52c24-c735-40be-bbe9-4577671c582a",
   "metadata": {},
   "outputs": [],
   "source": [
    "import psycopg2\n",
    "import time\n",
    "\n",
    "# Database connection parameters\n",
    "db_host = \"pg_container\"\n",
    "db_name = \"test_db\"\n",
    "db_user = \"shoc\"\n",
    "db_password = \"password\"\n",
    "\n",
    "def execute_query(query):\n",
    "    conn = None\n",
    "    try:\n",
    "        conn = psycopg2.connect(host=db_host, database=db_name, user=db_user, password=db_password)\n",
    "        cur = conn.cursor()\n",
    "\n",
    "        start_time = time.time()\n",
    "        cur.execute(query)\n",
    "        rows = cur.fetchall()\n",
    "        end_time = time.time()\n",
    "\n",
    "        elapsed_time = end_time - start_time\n",
    "        return elapsed_time\n",
    "\n",
    "    except (Exception, psycopg2.DatabaseError) as error:\n",
    "        print(error)\n",
    "    finally:\n",
    "        if conn:\n",
    "            cur.close()\n",
    "            conn.close()\n",
    "\n",
    "# Define your test queries\n",
    "char_query = \"SELECT * FROM CharTable WHERE TRIM(Name) = 'your_test_string';\"\n",
    "varchar_query = \"SELECT * FROM VarcharTable WHERE Name = 'your_test_string';\"\n",
    "\n",
    "# Number of runs\n",
    "num_runs = 10\n",
    "\n",
    "# Run the tests and time them\n",
    "char_times = []\n",
    "varchar_times = []\n",
    "\n",
    "for _ in range(num_runs):\n",
    "    char_times.append(execute_query(char_query))\n",
    "    varchar_times.append(execute_query(varchar_query))\n",
    "\n",
    "# Calculate averages (excluding the first run)\n",
    "avg_char_time = sum(char_times[1:]) / (num_runs - 1)\n",
    "avg_varchar_time = sum(varchar_times[1:]) / (num_runs - 1)\n",
    "\n",
    "print(f\"Average CHAR query time: {avg_char_time:.6f} seconds\")\n",
    "print(f\"Average VARCHAR query time: {avg_varchar_time:.6f} seconds\")"
   ]
  },
  {
   "cell_type": "code",
   "execution_count": null,
   "id": "c8f723b4-60f0-467e-a2b3-1329475d95b4",
   "metadata": {},
   "outputs": [],
   "source": []
  }
 ],
 "metadata": {
  "kernelspec": {
   "display_name": "Python 3 (ipykernel)",
   "language": "python",
   "name": "python3"
  },
  "language_info": {
   "codemirror_mode": {
    "name": "ipython",
    "version": 3
   },
   "file_extension": ".py",
   "mimetype": "text/x-python",
   "name": "python",
   "nbconvert_exporter": "python",
   "pygments_lexer": "ipython3",
   "version": "3.11.6"
  }
 },
 "nbformat": 4,
 "nbformat_minor": 5
}
