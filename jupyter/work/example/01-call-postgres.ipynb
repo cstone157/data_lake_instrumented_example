{
 "cells": [
  {
   "cell_type": "code",
   "execution_count": null,
   "id": "312f1aab-291d-48e4-bdc1-7b9196c4080c",
   "metadata": {},
   "outputs": [],
   "source": [
    "## import the postgres connector\n",
    "import psycopg2\n",
    "\n",
    "## INSERT THE PASSWORD\n",
    "\n",
    "## establishing the connection\n",
    "conn = psycopg2.connect(\n",
    "   database=\"test_db\", user='shoc', password='JustKeepSwimming', host='pg_container', port= '5432'\n",
    ")\n",
    "\n",
    "## Creating a cursor object using the cursor() method\n",
    "cursor = conn.cursor()\n",
    "\n",
    "## Executing an SQL function using the execute() method\n",
    "cursor.execute(\"select version()\")\n",
    "\n",
    "## Fetch a single row using fetchone() method.\n",
    "data = cursor.fetchone()\n",
    "print(\"Connection established to: \",data)"
   ]
  },
  {
   "cell_type": "code",
   "execution_count": null,
   "id": "bc55c4d8-38e6-48cf-83e0-159d4f68de94",
   "metadata": {},
   "outputs": [],
   "source": [
    "cursor = conn.cursor()\n",
    "\n",
    "## Executing an SQL function using the execute() method\n",
    "cursor.execute(\"select * from loki_aggregated\")\n",
    "\n",
    "## Fetch a single row using fetchone() method.\n",
    "data = cursor.fetchall()\n",
    "print(\"Pulled all of the data in loki_aggregated: \", type(data), \" of length \", len(data))\n",
    "\n",
    "## Closing the connection\n",
    "conn.close()"
   ]
  },
  {
   "cell_type": "code",
   "execution_count": null,
   "id": "9d8fe8a4-2b00-4f36-a29f-9516ff86c4fe",
   "metadata": {},
   "outputs": [],
   "source": [
    "import numpy as np\n",
    "import pandas as pd\n",
    "from datetime import datetime\n",
    "from re import search\n",
    "\n",
    "## Make a dataframe from data\n",
    "df = pd.DataFrame(data)\n",
    "\n",
    "## For some reason when we pull from postgres we don't get column\n",
    "##     names, so go ahead and add them back\n",
    "df.columns =['container id', 'role', 'user name', 'process', 'message start', 'message stop', 'start time', 'stop time']\n",
    "\n",
    "## I wrote a custom\n",
    "def convertStringToDateTime(cell):\n",
    "    tmp = cell.to_string(header=False, index=False)\n",
    "    if tmp == 'NaT':\n",
    "        return None\n",
    "    \n",
    "    try:\n",
    "        return datetime.strptime(tmp, '%Y-%m-%d %H:%M:%S.%f')\n",
    "    except ValueError:\n",
    "        return datetime.strptime(tmp, '%Y-%m-%d %H:%M:%S')\n",
    "\n",
    "\n",
    "    \n",
    "## Add another column for our df that calculates the diffence \n",
    "##     between the start and stop time\n",
    "timeDelta = []\n",
    "for i in range(0, len(df.index)):\n",
    "    start = convertStringToDateTime(df.loc[i, ['start time']])\n",
    "    stop = convertStringToDateTime(df.loc[i, ['stop time']])\n",
    "    \n",
    "    if start == None or stop == None:\n",
    "        timeDelta.append(None)\n",
    "    else:\n",
    "        timeDelta.append((stop - start).total_seconds() / 60)\n",
    "    \n",
    "## Now we are done add the time take column\n",
    "df['delta'] = timeDelta\n",
    "df"
   ]
  },
  {
   "cell_type": "code",
   "execution_count": null,
   "id": "b9244860-74eb-4cf5-b369-183d11f81352",
   "metadata": {},
   "outputs": [],
   "source": [
    "## Make a bar graph of the time delta vs process names\n",
    "import matplotlib.pyplot as plt\n",
    "\n",
    "fig, ax = plt.subplots(figsize=(20, 6))\n",
    "ax.bar(df['process'], df['delta'],\n",
    "       label='Process time')\n",
    "ax.legend()\n",
    "\n",
    "plt.xticks(rotation=10, wrap=True)\n",
    "plt.show()"
   ]
  },
  {
   "cell_type": "code",
   "execution_count": null,
   "id": "8794fb73-cd3b-43a8-94fe-daf2ce650df4",
   "metadata": {},
   "outputs": [],
   "source": [
    "## Make a simple bar graph of the avg time delta\n",
    "df_means = df.groupby('process').mean()\n",
    "mean = df['delta'].mean()\n",
    "median = df['delta'].median()\n",
    "\n",
    "fig, ax = plt.subplots(figsize=(20, 6))\n",
    "ax.bar(df_means.index, df_means['delta'],\n",
    "       label='Process Time')\n",
    "\n",
    "ax.axhline(mean, 0, 1, color='red', label='Mean Value for Process Time')\n",
    "ax.axhline(median, 0, 1, color='green', label='Median Value for Process Time')\n",
    "ax.legend()\n",
    "\n",
    "plt.xticks(rotation=10, wrap=True)\n",
    "plt.show()"
   ]
  },
  {
   "cell_type": "code",
   "execution_count": null,
   "id": "1fe7efd5-a4c8-4a6e-ad08-95d1958d4d15",
   "metadata": {},
   "outputs": [],
   "source": []
  }
 ],
 "metadata": {
  "kernelspec": {
   "display_name": "Python 3 (ipykernel)",
   "language": "python",
   "name": "python3"
  },
  "language_info": {
   "codemirror_mode": {
    "name": "ipython",
    "version": 3
   },
   "file_extension": ".py",
   "mimetype": "text/x-python",
   "name": "python",
   "nbconvert_exporter": "python",
   "pygments_lexer": "ipython3",
   "version": "3.10.5"
  }
 },
 "nbformat": 4,
 "nbformat_minor": 5
}
